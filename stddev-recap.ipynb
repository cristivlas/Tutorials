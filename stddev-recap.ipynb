{
 "cells": [
  {
   "cell_type": "code",
   "execution_count": 1,
   "id": "d8d47bf7",
   "metadata": {},
   "outputs": [],
   "source": [
    "import numpy as np # use np as convenient shorthand for the numpy module\n",
    "import random"
   ]
  },
  {
   "cell_type": "code",
   "execution_count": 2,
   "id": "45f5642b",
   "metadata": {},
   "outputs": [
    {
     "name": "stdout",
     "output_type": "stream",
     "text": [
      "[0, 1, 2, 3, 4, 5, 6, 7, 8, 9]\n",
      "[]\n",
      "[0, 1, 2, 3, 4, 5, 6, 7, 8, 9]\n",
      "[0, 1, 2, 3, 4, 5, 6, 7, 8, 9]\n"
     ]
    }
   ],
   "source": [
    "x_values = [0, 1, 2, 3, 4, 5, 6, 7, 8, 9]\n",
    "print(x_values)\n",
    "\n",
    "# Another way to populate a list with integers from 0 thru 9:\n",
    "# (or in math notation, [0, 10) -- includes 0 but not 10).\n",
    "# start with an empty list\n",
    "x_values = [] # yes, we can \"reuse\" x_values, by assigning an empty list to it\n",
    "print(x_values)\n",
    "\n",
    "for i in range(10):\n",
    "    x_values.append(i)\n",
    "print(x_values)\n",
    "\n",
    "# The code above, meaning the creation of the list, and populating it\n",
    "# in a loop, can be expressed in a much more succint way:\n",
    "x_values = [i for i in range(10)] # This form is called a Python Comprehension List.\n",
    "print(x_values)"
   ]
  },
  {
   "cell_type": "code",
   "execution_count": 3,
   "id": "1b3cb2c4",
   "metadata": {},
   "outputs": [
    {
     "name": "stdout",
     "output_type": "stream",
     "text": [
      "4.935585071701226\n",
      "4.935585071701226\n"
     ]
    }
   ],
   "source": [
    "# We now populate our y_values with 10 random integers in range [0, 20)\n",
    "y_values = [random.randint(0,20) for i in range(10)]\n",
    "\n",
    "# Now we compute the standard deviation, which is the square root of the average of (y-M)**2\n",
    "# where M is the average, or mean, of all y values in y_values\n",
    "M = sum(y_values) / len(y_values)\n",
    "std_dev = (sum([(y - M)**2 for y in y_values])/len(y_values))**0.5 # raising at power 0.5 is same as square root\n",
    "print(std_dev)\n",
    "\n",
    "# The above calculations were done \"by hand\", for pedagogical value\n",
    "# Now we'll achieve the same with numpy in one swift line:\n",
    "print(np.std(y_values))\n",
    "\n",
    "# Surprisingly, the results should match!"
   ]
  },
  {
   "cell_type": "markdown",
   "id": "70e776ea",
   "metadata": {},
   "source": [
    "A closing observation about the code above. You may have noticed that the data type for x_values and y_values are vanilla Python lists. There is nothing wrong with using Python lists, but when manipulating large datasets, numpy arrays are more efficient. To prove this, we use the sys.getsizeof() function to determine the size of an object in bytes."
   ]
  },
  {
   "cell_type": "code",
   "execution_count": 4,
   "id": "3646b91c",
   "metadata": {},
   "outputs": [
    {
     "name": "stdout",
     "output_type": "stream",
     "text": [
      "184\n"
     ]
    }
   ],
   "source": [
    "import sys\n",
    "print(sys.getsizeof(y_values))"
   ]
  },
  {
   "cell_type": "code",
   "execution_count": 5,
   "id": "a4d5b7d4",
   "metadata": {},
   "outputs": [
    {
     "name": "stdout",
     "output_type": "stream",
     "text": [
      "152\n"
     ]
    }
   ],
   "source": [
    "y_values_array = np.array(y_values, dtype=np.int32) # convert y_values to numpy array\n",
    "print(sys.getsizeof(y_values_array))"
   ]
  },
  {
   "cell_type": "markdown",
   "id": "4e751cb5",
   "metadata": {},
   "source": [
    "The gain may not look like much, but that's because we only have 10 items in the list / array. With more items, the gains are more significant."
   ]
  },
  {
   "cell_type": "code",
   "execution_count": 6,
   "id": "4bdbf095",
   "metadata": {},
   "outputs": [
    {
     "name": "stdout",
     "output_type": "stream",
     "text": [
      "8856\n",
      "4112\n"
     ]
    }
   ],
   "source": [
    "y_values = [random.randint(0,20) for i in range(1000)] # 1000 random ints\n",
    "y_values_array = np.array(y_values, dtype=np.int32) # convert y_values to numpy array\n",
    "\n",
    "print(sys.getsizeof(y_values))\n",
    "print(sys.getsizeof(y_values_array))"
   ]
  },
  {
   "cell_type": "code",
   "execution_count": 7,
   "id": "47e8db9f",
   "metadata": {},
   "outputs": [],
   "source": [
    "# And really, last point for today. You can populate a numpy array of random ints in just one line:\n",
    "y_values_array = np.random.randint(0, 20, 1000, np.int32)"
   ]
  }
 ],
 "metadata": {
  "kernelspec": {
   "display_name": "Python 3 (ipykernel)",
   "language": "python",
   "name": "python3"
  },
  "language_info": {
   "codemirror_mode": {
    "name": "ipython",
    "version": 3
   },
   "file_extension": ".py",
   "mimetype": "text/x-python",
   "name": "python",
   "nbconvert_exporter": "python",
   "pygments_lexer": "ipython3",
   "version": "3.10.12"
  }
 },
 "nbformat": 4,
 "nbformat_minor": 5
}
